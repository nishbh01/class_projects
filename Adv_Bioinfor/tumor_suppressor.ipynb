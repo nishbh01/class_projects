{
 "cells": [
  {
   "cell_type": "code",
   "execution_count": 1,
   "metadata": {},
   "outputs": [],
   "source": [
    "import numpy as np\n",
    "import pandas as pd\n",
    "import matplotlib.pyplot as plt\n",
    "from Bio import  Entrez, Medline, SeqIO"
   ]
  },
  {
   "cell_type": "code",
   "execution_count": 2,
   "metadata": {},
   "outputs": [],
   "source": [
    "# NCBI Eutilites # data extraction for mRNA transcripts\n",
    "from Bio import Entrez\n",
    "Entrez.email = 'nbhanda1@ramapo.edu'\n",
    "handle = Entrez.esearch(db='nucleotide', term='Tumor Suppressors mRNA AND human[orgn]', retmax = 2000)\n",
    "record = Entrez.read(handle)\n",
    "handle.close()\n",
    "Id_record = record['IdList']\n",
    "\n",
    "# fetching the data \n",
    "fasta = Entrez.efetch(db='nucleotide', rettype = 'fasta', retmode = 'text', id=Id_record)\n",
    "fasta_read = fasta.read()\n",
    "fasta.close()\n",
    "with open(\"suppressors_transcript.fasta\", 'w') as f:\n",
    "    f.write(fasta_read)\n",
    "f.close()\n"
   ]
  },
  {
   "cell_type": "code",
   "execution_count": 3,
   "metadata": {},
   "outputs": [
    {
     "name": "stdout",
     "output_type": "stream",
     "text": [
      "533\n"
     ]
    }
   ],
   "source": [
    "from Bio import SeqIO\n",
    "\n",
    "sequences = SeqIO.parse(\"suppressors_transcript.fasta\", \"fasta\")\n",
    "sfiltered_sequences = [seq for seq in sequences if \"NM\" in seq.id]\n",
    "SeqIO.write(sfiltered_sequences, \"snucleotide_seq.fasta\", \"fasta\")\n",
    "print(len(sfiltered_sequences))"
   ]
  },
  {
   "cell_type": "code",
   "execution_count": 5,
   "metadata": {},
   "outputs": [
    {
     "name": "stdout",
     "output_type": "stream",
     "text": [
      "Isoleucine codon frequency:\n",
      "ATA: 15688\n",
      "ATT: 16945\n",
      "ATC: 14348\n"
     ]
    },
    {
     "data": {
      "image/png": "[encoded data removed]",
      "text/plain": [
       "<Figure size 640x480 with 1 Axes>"
      ]
     },
     "metadata": {},
     "output_type": "display_data"
    }
   ],
   "source": [
    "isoleucine_codons = ['ATA', 'ATC', 'ATT']\n",
    "\n",
    "def codon_frequency(sequences, codons):\n",
    "    frequency = {}\n",
    "    for i in range(len(sequences)):\n",
    "        sequence = sequences[i]\n",
    "        codon = str()\n",
    "        \n",
    "        for nucleotide in sequence:\n",
    "            codon += nucleotide\n",
    "        \n",
    "            if len(codon) % 3 == 0:\n",
    "                if codon in isoleucine_codons:\n",
    "                    try:\n",
    "                        frequency[codon] += 1\n",
    "                    except:\n",
    "                        frequency[codon] = 1\n",
    "                    codon = str()\n",
    "                else:\n",
    "                    codon = str()\n",
    "    return frequency\n",
    "\n",
    "input_file = \"snucleotide_seq.fasta\"\n",
    "sequences1 = [str(record.seq) for record in SeqIO.parse(input_file, \"fasta\")]\n",
    "frequency = codon_frequency(sequences1, isoleucine_codons)\n",
    "\n",
    "print(\"Isoleucine codon frequency:\")\n",
    "for codon, count in frequency.items():\n",
    "    print(f\"{codon}: {count}\")\n",
    "codons = frequency.keys()\n",
    "count = frequency.values()\n",
    "plt.bar(codons, count, color = ['r', 'b', 'g'])\n",
    "plt.show()"
   ]
  },
  {
   "cell_type": "code",
   "execution_count": 7,
   "metadata": {},
   "outputs": [
    {
     "name": "stdout",
     "output_type": "stream",
     "text": [
      "Isoleucine codon frequency:\n",
      "ATA: 15688\n",
      "ATT: 16945\n",
      "ATC: 14348\n"
     ]
    },
    {
     "data": {
      "image/png": "[encoded data removed]",
      "text/plain": [
       "<Figure size 640x480 with 1 Axes>"
      ]
     },
     "metadata": {},
     "output_type": "display_data"
    }
   ],
   "source": [
    "isoleucine_codons = ['ATA', 'ATC', 'ATT']\n",
    "\n",
    "def codon_frequency(sequences, codons):\n",
    "    frequency = {}\n",
    "    for i in range(len(sequences)):\n",
    "        sequence = sequences[i]\n",
    "        for i in range(0, len(sequence), 3):\n",
    "            codon = sequence[i:i+3]\n",
    "            if codon in codons:\n",
    "                if codon in frequency:\n",
    "                    frequency[codon] += 1\n",
    "                else:\n",
    "                    frequency[codon] = 1\n",
    "    return frequency\n",
    "\n",
    "\n",
    "input_file = \"snucleotide_seq.fasta\"\n",
    "sequences1 = [str(record.seq) for record in SeqIO.parse(input_file, \"fasta\")]\n",
    "frequency = codon_frequency(sequences1, isoleucine_codons)\n",
    "\n",
    "print(\"Isoleucine codon frequency:\")\n",
    "for codon, count in frequency.items():\n",
    "    print(f\"{codon}: {count}\")\n",
    "codons = frequency.keys()\n",
    "count = frequency.values()\n",
    "plt.bar(codons, count, color = ['r', 'b', 'g'])\n",
    "plt.show()"
   ]
  },
  {
   "cell_type": "code",
   "execution_count": 8,
   "metadata": {},
   "outputs": [],
   "source": [
    "# NCBI Eutilites # data extraction for mRNA transcripts\n",
    "# looking for grotwh promoting mRNAs\n",
    "\n",
    "from Bio import Entrez\n",
    "Entrez.email = 'nbhanda1@ramapo.edu'\n",
    "handle = Entrez.esearch(db='nucleotide', term='Tumor promoters]', retmax = 2000)\n",
    "record = Entrez.read(handle)\n",
    "handle.close()\n",
    "Id_record = record['IdList']\n",
    "\n",
    "# fetching the data \n",
    "fasta = Entrez.efetch(db='nucleotide', rettype = 'fasta', retmode = 'text', id=Id_record)\n",
    "fasta_read = fasta.read()\n",
    "fasta.close()\n",
    "with open(\"promoters_transcript.fasta\", 'w') as f:\n",
    "    f.write(fasta_read)\n",
    "f.close()"
   ]
  },
  {
   "cell_type": "code",
   "execution_count": 9,
   "metadata": {},
   "outputs": [
    {
     "name": "stdout",
     "output_type": "stream",
     "text": [
      "49\n"
     ]
    }
   ],
   "source": [
    "from Bio import SeqIO\n",
    "\n",
    "sequences = SeqIO.parse(\"promoters_transcript.fasta\", \"fasta\")\n",
    "pfiltered_sequences = [seq for seq in sequences if \"NM\" in seq.id]\n",
    "SeqIO.write(pfiltered_sequences, \"pnucleotide_seq.fasta\", \"fasta\")\n",
    "print(len(pfiltered_sequences))"
   ]
  },
  {
   "cell_type": "code",
   "execution_count": 10,
   "metadata": {
    "scrolled": true
   },
   "outputs": [
    {
     "name": "stdout",
     "output_type": "stream",
     "text": [
      "Isoleucine codon frequency:\n",
      "ATA: 598\n",
      "ATC: 706\n",
      "ATT: 952\n"
     ]
    },
    {
     "data": {
      "image/png": "[encoded data removed]",
      "text/plain": [
       "<Figure size 640x480 with 1 Axes>"
      ]
     },
     "metadata": {},
     "output_type": "display_data"
    }
   ],
   "source": [
    "isoleucine_codons = ['ATA', 'ATC', 'ATT']\n",
    "\n",
    "def codon_frequency(sequences, codons):\n",
    "    frequency = {}\n",
    "    for i in range(len(sequences)):\n",
    "        sequence = sequences[i]\n",
    "        codon = str()\n",
    "        \n",
    "        for nucleotide in sequence:\n",
    "            codon += nucleotide\n",
    "        \n",
    "            if len(codon) % 3 == 0:\n",
    "                if codon in codons:\n",
    "                    try:\n",
    "                        frequency[codon] += 1\n",
    "                    except:\n",
    "                        frequency[codon] = 0\n",
    "                    codon = str()\n",
    "                else:\n",
    "                    codon = str()\n",
    "    return frequency\n",
    "\n",
    "input_file = \"pnucleotide_seq.fasta\"\n",
    "sequences1 = [str(record.seq) for record in SeqIO.parse(input_file, \"fasta\")]\n",
    "frequency = codon_frequency(sequences1, isoleucine_codons)\n",
    "\n",
    "print(\"Isoleucine codon frequency:\")\n",
    "for codon, count in frequency.items():\n",
    "    print(f\"{codon}: {count}\")\n",
    "codons = frequency.keys()\n",
    "count = frequency.values()\n",
    "plt.bar(codons, count, color = ['r', 'b', 'g'])\n",
    "plt.show()"
   ]
  },
  {
   "cell_type": "code",
   "execution_count": 11,
   "metadata": {},
   "outputs": [
    {
     "name": "stdout",
     "output_type": "stream",
     "text": [
      "0\n"
     ]
    }
   ],
   "source": [
    "handle = Entrez.esearch(db=\"nucleotide\", term=\"tp53 mRNA [gene] AND human [ORGN]\")  # search sequences by a combination of keywords\n",
    "records = Entrez.read(handle)  #store records from search\n",
    "print(records['Count'])  #This prints how many results there are from your search"
   ]
  },
  {
   "cell_type": "code",
   "execution_count": 12,
   "metadata": {},
   "outputs": [
    {
     "name": "stdout",
     "output_type": "stream",
     "text": [
      "Supplied+id+parameter+is+empty.\n",
      "\n"
     ]
    }
   ],
   "source": [
    "#This retrieves the Genbank record for the top result\n",
    "handle = Entrez.efetch(db=\"nucleotide\", id=records['IdList'], rettype=\"fasta\", retmode=\"text\")\n",
    "record = handle.read()\n",
    "handle.close()\n",
    "print(record)"
   ]
  },
  {
   "cell_type": "code",
   "execution_count": 13,
   "metadata": {},
   "outputs": [
    {
     "ename": "AttributeError",
     "evalue": "'str' object has no attribute 'Seq'",
     "output_type": "error",
     "traceback": [
      "\u001b[0;31m---------------------------------------------------------------------------\u001b[0m",
      "\u001b[0;31mAttributeError\u001b[0m                            Traceback (most recent call last)",
      "\u001b[1;32m/Users/nischal/Library/CloudStorage/GoogleDrive-nbhanda1@ramapo.edu/My Drive/undergrad/spring 2023/AdvBio/project/tumor_suppressor.ipynb Cell 11\u001b[0m in \u001b[0;36m<cell line: 2>\u001b[0;34m()\u001b[0m\n\u001b[1;32m      <a href='vscode-notebook-cell:/Users/nischal/Library/CloudStorage/GoogleDrive-nbhanda1%40ramapo.edu/My%20Drive/undergrad/spring%202023/AdvBio/project/tumor_suppressor.ipynb#X12sZmlsZQ%3D%3D?line=0'>1</a>\u001b[0m \u001b[39m# sequences = SeqIO.parse(\"suppressors_transcript.fasta\", \"fasta\")\u001b[39;00m\n\u001b[0;32m----> <a href='vscode-notebook-cell:/Users/nischal/Library/CloudStorage/GoogleDrive-nbhanda1%40ramapo.edu/My%20Drive/undergrad/spring%202023/AdvBio/project/tumor_suppressor.ipynb#X12sZmlsZQ%3D%3D?line=1'>2</a>\u001b[0m tp53filtered_sequences \u001b[39m=\u001b[39m [seq \u001b[39mfor\u001b[39;00m seq \u001b[39min\u001b[39;00m record\u001b[39m.\u001b[39;49mSeq \u001b[39mif\u001b[39;00m \u001b[39m\"\u001b[39m\u001b[39mNM\u001b[39m\u001b[39m\"\u001b[39m \u001b[39min\u001b[39;00m seq\u001b[39m.\u001b[39mid]\n",
      "\u001b[0;31mAttributeError\u001b[0m: 'str' object has no attribute 'Seq'"
     ]
    }
   ],
   "source": [
    "# sequences = SeqIO.parse(\"suppressors_transcript.fasta\", \"fasta\")\n",
    "tp53filtered_sequences = [seq for seq in record.Seq if \"NM\" in seq.id]\n"
   ]
  },
  {
   "cell_type": "code",
   "execution_count": null,
   "metadata": {},
   "outputs": [],
   "source": []
  }
 ],
 "metadata": {
  "kernelspec": {
   "display_name": "Python 3 (ipykernel)",
   "language": "python",
   "name": "python3"
  },
  "language_info": {
   "codemirror_mode": {
    "name": "ipython",
    "version": 3
   },
   "file_extension": ".py",
   "mimetype": "text/x-python",
   "name": "python",
   "nbconvert_exporter": "python",
   "pygments_lexer": "ipython3",
   "version": "3.9.13"
  }
 },
 "nbformat": 4,
 "nbformat_minor": 2
}
